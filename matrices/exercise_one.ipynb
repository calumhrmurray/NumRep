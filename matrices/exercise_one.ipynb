{
 "cells": [
  {
   "cell_type": "code",
   "execution_count": 1,
   "metadata": {
    "collapsed": true
   },
   "outputs": [],
   "source": [
    "import numpy as np"
   ]
  },
  {
   "cell_type": "code",
   "execution_count": 16,
   "metadata": {
    "collapsed": false
   },
   "outputs": [],
   "source": [
    "matrix = np.loadtxt('/home/pclarke/Teaching/NumericalRecipes/Unit1-Matrices/java/SimultaneousMatrix.txt')\n",
    "vector = np.loadtxt('/home/pclarke/Teaching/NumericalRecipes/Unit1-Matrices/java/SimultaneousVector.txt')"
   ]
  },
  {
   "cell_type": "code",
   "execution_count": 17,
   "metadata": {
    "collapsed": false
   },
   "outputs": [
    {
     "data": {
      "text/plain": [
       "(array([[  3.,   4.,   8.,   5.,   4.],\n",
       "        [  5.,   6.,   9.,  10.,   1.],\n",
       "        [  7.,   3.,   9.,   3.,   2.],\n",
       "        [ 12.,  15.,  20.,   5.,   9.],\n",
       "        [  9.,   3.,   5.,   6.,   8.]]),\n",
       " array([ 170.,  204.,  138.,  394.,  223.]))"
      ]
     },
     "execution_count": 17,
     "metadata": {},
     "output_type": "execute_result"
    }
   ],
   "source": [
    "matrix, vector"
   ]
  },
  {
   "cell_type": "code",
   "execution_count": 19,
   "metadata": {
    "collapsed": false
   },
   "outputs": [
    {
     "data": {
      "text/plain": [
       "array([[  1.00000000e+00,  -1.11022302e-16,  -1.11022302e-16,\n",
       "          2.22044605e-16,  -1.11022302e-16],\n",
       "       [ -3.60822483e-16,   1.00000000e+00,  -5.20417043e-17,\n",
       "         -1.90819582e-17,   4.85722573e-17],\n",
       "       [  2.22044605e-16,   1.11022302e-16,   1.00000000e+00,\n",
       "         -1.11022302e-16,   0.00000000e+00],\n",
       "       [ -5.55111512e-17,  -1.38777878e-16,  -2.77555756e-17,\n",
       "          1.00000000e+00,  -5.55111512e-17],\n",
       "       [ -1.11022302e-16,   2.22044605e-16,   2.77555756e-16,\n",
       "         -1.11022302e-16,   1.00000000e+00]])"
      ]
     },
     "execution_count": 19,
     "metadata": {},
     "output_type": "execute_result"
    }
   ],
   "source": [
    "np.matmul( np.linalg.inv(matrix), matrix)"
   ]
  },
  {
   "cell_type": "code",
   "execution_count": 20,
   "metadata": {
    "collapsed": false
   },
   "outputs": [
    {
     "data": {
      "text/plain": [
       "array([  3.,   7.,   5.,   9.,  12.])"
      ]
     },
     "execution_count": 20,
     "metadata": {},
     "output_type": "execute_result"
    }
   ],
   "source": [
    "np.matmul( np.linalg.inv(matrix), vector)"
   ]
  },
  {
   "cell_type": "code",
   "execution_count": 21,
   "metadata": {
    "collapsed": false
   },
   "outputs": [
    {
     "data": {
      "text/plain": [
       "170"
      ]
     },
     "execution_count": 21,
     "metadata": {},
     "output_type": "execute_result"
    }
   ],
   "source": [
    "3*3+7*4+8*5+9*5+12*4"
   ]
  },
  {
   "cell_type": "code",
   "execution_count": 23,
   "metadata": {
    "collapsed": true
   },
   "outputs": [],
   "source": [
    "coeffs = np.loadtxt('/home/pclarke/Teaching/NumericalRecipes/Unit1-Matrices/java/SimultaneousMatrix.txt')\n",
    "vector = np.loadtxt('/home/pclarke/Teaching/NumericalRecipes/Unit1-Matrices/java/SimultaneousVector.txt')"
   ]
  },
  {
   "cell_type": "code",
   "execution_count": 24,
   "metadata": {
    "collapsed": true
   },
   "outputs": [],
   "source": [
    "mcoeffs = np.matrix(coeffs)\n",
    "mvector = np.matrix(vector)"
   ]
  },
  {
   "cell_type": "code",
   "execution_count": 25,
   "metadata": {
    "collapsed": false
   },
   "outputs": [
    {
     "data": {
      "text/plain": [
       "matrix([[-0.23276134,  0.03610906,  0.10253711,  0.01273818,  0.07190231],\n",
       "        [-0.19128329,  0.09322034, -0.18280872,  0.11743341, -0.00242131],\n",
       "        [ 0.19012528, -0.06816507,  0.12859248, -0.03279293, -0.08179808],\n",
       "        [ 0.0416886 ,  0.09801032, -0.0482156 , -0.04705759,  0.03189809],\n",
       "        [ 0.183493  , -0.10648489, -0.09100958, -0.00257922,  0.07221813]])"
      ]
     },
     "execution_count": 25,
     "metadata": {},
     "output_type": "execute_result"
    }
   ],
   "source": [
    "mcoeffs.I"
   ]
  },
  {
   "cell_type": "code",
   "execution_count": 26,
   "metadata": {
    "collapsed": false
   },
   "outputs": [
    {
     "data": {
      "text/plain": [
       "matrix([[  1.00000000e+00,  -1.11022302e-16,  -1.11022302e-16,\n",
       "           2.22044605e-16,  -1.11022302e-16],\n",
       "        [ -3.60822483e-16,   1.00000000e+00,  -5.20417043e-17,\n",
       "          -1.90819582e-17,   4.85722573e-17],\n",
       "        [  2.22044605e-16,   1.11022302e-16,   1.00000000e+00,\n",
       "          -1.11022302e-16,   0.00000000e+00],\n",
       "        [ -5.55111512e-17,  -1.38777878e-16,  -2.77555756e-17,\n",
       "           1.00000000e+00,  -5.55111512e-17],\n",
       "        [ -1.11022302e-16,   2.22044605e-16,   2.77555756e-16,\n",
       "          -1.11022302e-16,   1.00000000e+00]])"
      ]
     },
     "execution_count": 26,
     "metadata": {},
     "output_type": "execute_result"
    }
   ],
   "source": [
    "mcoeffs.I*mcoeffs"
   ]
  },
  {
   "cell_type": "code",
   "execution_count": 28,
   "metadata": {
    "collapsed": false
   },
   "outputs": [
    {
     "data": {
      "text/plain": [
       "matrix([[  3.],\n",
       "        [  7.],\n",
       "        [  5.],\n",
       "        [  9.],\n",
       "        [ 12.]])"
      ]
     },
     "execution_count": 28,
     "metadata": {},
     "output_type": "execute_result"
    }
   ],
   "source": [
    "mcoeffs.I*mvector.T"
   ]
  },
  {
   "cell_type": "code",
   "execution_count": null,
   "metadata": {
    "collapsed": true
   },
   "outputs": [],
   "source": []
  }
 ],
 "metadata": {
  "kernelspec": {
   "display_name": "Python 2",
   "language": "python",
   "name": "python2"
  },
  "language_info": {
   "codemirror_mode": {
    "name": "ipython",
    "version": 2
   },
   "file_extension": ".py",
   "mimetype": "text/x-python",
   "name": "python",
   "nbconvert_exporter": "python",
   "pygments_lexer": "ipython2",
   "version": "2.7.5"
  }
 },
 "nbformat": 4,
 "nbformat_minor": 0
}
