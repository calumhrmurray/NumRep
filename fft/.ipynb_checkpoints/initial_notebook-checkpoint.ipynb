{
 "cells": [
  {
   "cell_type": "code",
   "execution_count": null,
   "metadata": {
    "collapsed": true
   },
   "outputs": [],
   "source": [
    "import numpy as np\n",
    "from numpy import fft\n",
    "import matplotlib.pyplot as plt\n",
    "%ma"
   ]
  },
  {
   "cell_type": "code",
   "execution_count": null,
   "metadata": {
    "collapsed": true
   },
   "outputs": [],
   "source": [
    "fig = plt.figure()\n",
    "\n",
    "#-----------------\n",
    "# Create the input waveform in the time domain\n",
    "\n",
    "samples = 50\n",
    "increments = np.arange(samples)\n",
    "\n",
    "#Make up a list of times in in a single period of 0 ->> 2*pi\n",
    "times = 2.0*3.14159/float(samples)*increments\n",
    "\n",
    "#Create the time domain signal with the required number of samples\n",
    "amplitudeTime = np.cos(16.*times) + np.sin(10.*times)\n",
    "\n",
    "fig.add_subplot(211)\n",
    "plt.plot( times, amplitudeTime, drawstyle='steps-mid' )\n",
    "plt.title('Time domain')\n",
    "\n",
    "#-----------------\n",
    "# Create the transform in the frequency domain\n",
    "\n",
    "# Perform fft\n",
    "amplitudeF = fft.fft(amplitudeTime)\n",
    "\n",
    "fig.add_subplot(212)\n",
    "plt.plot( increments, amplitudeF.real, increments, amplitudeF.imag, drawstyle='steps-mid')\n",
    "plt.title('Frequency domain')\n",
    "\n",
    "\n",
    "plt.show()"
   ]
  }
 ],
 "metadata": {
  "kernelspec": {
   "display_name": "Python 2",
   "language": "python",
   "name": "python2"
  }
 },
 "nbformat": 4,
 "nbformat_minor": 0
}
