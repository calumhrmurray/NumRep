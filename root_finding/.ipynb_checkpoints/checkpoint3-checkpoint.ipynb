{
 "cells": [
  {
   "cell_type": "code",
   "execution_count": 7,
   "metadata": {
    "collapsed": true
   },
   "outputs": [],
   "source": [
    "import numpy as np\n",
    "import matplotlib.pyplot as plt\n",
    "%matplotlib inline"
   ]
  },
  {
   "cell_type": "code",
   "execution_count": 38,
   "metadata": {
    "collapsed": true
   },
   "outputs": [],
   "source": [
    "# function classes\n",
    "# is this any more useful than a definition\n",
    "# potentially for the engine\n",
    "\n",
    "# roots: x = -2.49771,1.20296,3.39475\n",
    "class function_cubic:\n",
    "    def __init__(self):\n",
    "        print('Creating function: cubic')\n",
    "        self.nroots = 3\n",
    "        self.bounds = [-5,5]\n",
    "          \n",
    "    # compute function \n",
    "    def get_value(self,x):\n",
    "        return 10.2-7.4*x-2.1*x*x+x*x*x\n",
    "    \n",
    "    # compute derivative\n",
    "    def get_derivative(self,x):\n",
    "        return -7.4*x-4.2*x+3*x*x\n",
    "    \n",
    "    def interval(self):\n",
    "        return self.interval\n",
    "\n",
    "class function_exp:\n",
    "    def __init__(self):\n",
    "        print('Creating function: exponential')\n",
    "        self.nroots = 1\n",
    "        self.bounds = [-5,5]\n",
    "       \n",
    "    # compute function \n",
    "    def get_value(self,x):\n",
    "        return np.exp(x)-2\n",
    "    \n",
    "    # compute derivative\n",
    "    def get_derivative(self,x):\n",
    "        return np.exp(x)\n",
    "\n",
    "    def interval(self):\n",
    "        return self.interval\n",
    "    \n",
    "class function_sinusodial:\n",
    "    def __init__(self):\n",
    "        print('Creating function: sinusoidal')\n",
    "        self.nroots = 4\n",
    "        self.bounds = [0.1,4]\n",
    "        \n",
    "    # compute function\n",
    "    def get_value(self,x):\n",
    "        return np.cos(x)*np.sin(3*x)\n",
    "    \n",
    "    # compute derivative\n",
    "    def get_derivative(self,x):\n",
    "        return -np.sin(x)*np.sin(3*x)+3*np.cos(x)*np.cos(3*x)\n",
    "\n",
    "    def interval(self):\n",
    "        return self.interval"
   ]
  },
  {
   "cell_type": "code",
   "execution_count": 85,
   "metadata": {
    "collapsed": false
   },
   "outputs": [],
   "source": [
    "# root finding algorithms\n",
    "\n",
    "class step_bisection:\n",
    "    def iterate(self,function,pair):\n",
    "        centre = float(pair[0]+pair[1])/2\n",
    "        if function.get_value(pair[0])*function.get_value(centre) > 0:\n",
    "                return [centre,pair[1]] \n",
    "        else:\n",
    "                return [pair[0],centre] \n",
    "        \n",
    "# newton raphson correct?\n",
    "class step_nr:\n",
    "    def iterate(self,function,pair):\n",
    "        return [pair[0]-function.get_value(pair[0])/function.get_derivative(pair[0]),pair[0]]\n",
    "\n",
    "class step_secant:\n",
    "    def iterate(self,function,pair):\n",
    "        return [pair[1],pair[1]-function.get_value(pair[1])*((pair[1]-pair[0])/\n",
    "                                float(function.get_value(pair[1])-function.get_value(pair[0])))]\n",
    "\n",
    "class step_hybrid:\n",
    "    def iterate(self,function,pair):\n",
    "        # secant \n",
    "        x2s = pair[1]-function.get_value(pair[1])*((pair[1]-pair[0])/\n",
    "                    float(function.get_value(pair[1])-function.get_value(pair[0])))\n",
    "        # if secant x2 is outside init range use bisection\n",
    "        if x2s > pair[1] or x2s < pair[0]:\n",
    "            # perform bisection\n",
    "            centre = float(pair[0]+pair[1])/2\n",
    "            if function.get_value(pair[0])*function.get_value(centre) > 0:\n",
    "                    return [centre,pair[1]] \n",
    "            else:\n",
    "                    return [pair[0],centre] \n",
    "        # else find straddle of the root\n",
    "        else:\n",
    "            if function.get_value(x2s)*function.get_value(pair[1]) > 0:\n",
    "                return [pair[0],x2s]\n",
    "            else:\n",
    "                return [x2s,pair[1]]               "
   ]
  },
  {
   "cell_type": "code",
   "execution_count": 86,
   "metadata": {
    "collapsed": true
   },
   "outputs": [],
   "source": [
    "# bracket roots for a function given the number of roots\n",
    "class bracket:\n",
    "    def get_brackets(self,function,nintervals=20):\n",
    "        # get bounds of the function\n",
    "        bracket_range = function.bounds\n",
    "        print('Bracket range '+str(bracket_range)+' Init number of intervals '+str(nintervals))\n",
    "        # find where roots lie between\n",
    "        n = 0\n",
    "        iterations = 0 \n",
    "        while function.nroots > n or iterations > 3:\n",
    "            n = 0\n",
    "            brackets = []\n",
    "            # calculate step sizes\n",
    "            step_size = float(bracket_range[1]-bracket_range[0])/nintervals\n",
    "            intervals = np.arange(bracket_range[0],bracket_range[1],step_size)\n",
    "\n",
    "            for i in range(int(nintervals)-1):\n",
    "                if function.get_value(intervals[i])*function.get_value(intervals[i+1]) < 0:\n",
    "                    n += 1\n",
    "                    brackets.append([intervals[i],intervals[i+1]])                    \n",
    "            # function has failed to find all of the roots so we restart with smaller step sizes\n",
    "            nintervals = nintervals*2\n",
    "            iterations += 1\n",
    "\n",
    "        return brackets                     "
   ]
  },
  {
   "cell_type": "code",
   "execution_count": 87,
   "metadata": {
    "collapsed": false
   },
   "outputs": [],
   "source": [
    "# engine to run everything\n",
    "class engine:\n",
    "    def __init__(self,function,step,title):\n",
    "        self.function = function\n",
    "        self.step = step\n",
    "        self.title = title\n",
    "        \n",
    "    def run(self,tolerance,root_interval):\n",
    "        # initiate results set\n",
    "        results = [root_interval]\n",
    "        \n",
    "        # counter\n",
    "        n = 0\n",
    "        tol = 1.      \n",
    "        # iterate algortihm\n",
    "        while np.abs(tol) > tolerance:\n",
    "            results.append(self.step.iterate(self.function,results[n]))\n",
    "            tol = results[n][0]-results[n-1][0]\n",
    "            n += 1\n",
    "            tol = (results[n][1]-results[n][0])/2.\n",
    "            if n > 50:\n",
    "                print('Divergent with '+self.title)\n",
    "                break\n",
    "            \n",
    "        print('Engine has finished with '+self.title) \n",
    "        return results,n            "
   ]
  },
  {
   "cell_type": "code",
   "execution_count": 88,
   "metadata": {
    "collapsed": false
   },
   "outputs": [],
   "source": [
    "def main(in_function,tolerance):\n",
    "    \n",
    "    print('Running root finder for '+in_function+' for an tolerance of '+str(tolerance))\n",
    "        \n",
    "    # create function\n",
    "    if in_function == 'cubic':\n",
    "        function = function_cubic()\n",
    "    elif in_function == 'exp':\n",
    "        function = function_exp()\n",
    "    elif in_function == 'sin':\n",
    "        function = function_sinusodial()\n",
    "    else: \n",
    "        print('Incorrect function input')\n",
    "        \n",
    "    perform_bracketing = bracket()        \n",
    "    brackets = perform_bracketing.get_brackets(function)\n",
    "    \n",
    "    # get results for each root\n",
    "    print('There is '+str(len(brackets))+' roots to be found.')\n",
    "    print(' ')\n",
    "    \n",
    "    # create ... objects\n",
    "    bisection_step = step_bisection()\n",
    "    bisection_engine = engine(function,bisection_step,'bisection method')\n",
    "    \n",
    "    nr_step = step_nr()\n",
    "    nr_engine = engine(function,nr_step,'newton-raphson method')\n",
    "    \n",
    "    secant_step = step_secant()\n",
    "    secant_engine = engine(function,secant_step,'secant method')\n",
    "    \n",
    "    hybrid_step = step_hybrid()\n",
    "    hybrid_engine = engine(function,hybrid_step,'hybrid method')\n",
    "    \n",
    "    # get root for each boundary in the brackets\n",
    "    for row in brackets:\n",
    "        # get results\n",
    "        results_bisection,nb = bisection_engine.run(tolerance,row)\n",
    "        # for newton-raphson start in the centre\n",
    "        results_nr,nr = nr_engine.run(tolerance,row)\n",
    "        results_secant,ns = secant_engine.run(tolerance,row)\n",
    "        results_hybrid,nh = hybrid_engine.run(tolerance,row)\n",
    "        print('Bisection results: '+str(results_bisection[-1])+' with '+str(nb)+' iterations')\n",
    "        print('Newton-raphson results: '+str(results_nr[-1])+' with '+str(nr)+' iterations')\n",
    "        print('Secant results: '+str(results_secant[-1])+' with '+str(ns)+' iterations')\n",
    "        print('Hybrid results: '+str(results_hybrid[-1])+' with '+str(nh)+' iterations')\n",
    "        print(' ')"
   ]
  },
  {
   "cell_type": "code",
   "execution_count": 89,
   "metadata": {
    "collapsed": false,
    "scrolled": false
   },
   "outputs": [
    {
     "name": "stdout",
     "output_type": "stream",
     "text": [
      "Running root finder for exp for an tolerance of 1e-05\n",
      "Creating function: exponential\n",
      "Bracket range [-5, 5] Init number of intervals 20\n",
      "There is 1 roots to be found.\n",
      " \n",
      "Engine has finished with bisection method\n",
      "Engine has finished with newton-raphson method\n",
      "Engine has finished with secant method\n",
      "Divergent with hybrid method\n",
      "Engine has finished with hybrid method\n",
      "Bisection results: [0.693145751953125, 0.6931610107421875] with 15 iterations\n",
      "Newton-raphson results: [0.6931471805599454, 0.69314719995859264] with 4 iterations\n",
      "Secant results: [0.69314705031780943, 0.69314718055593827] with 5 iterations\n",
      "Hybrid results: [0.69314718055994529, 1.0] with 51 iterations\n",
      " \n"
     ]
    }
   ],
   "source": [
    "main('exp',0.00001)"
   ]
  },
  {
   "cell_type": "code",
   "execution_count": 90,
   "metadata": {
    "collapsed": false
   },
   "outputs": [
    {
     "name": "stdout",
     "output_type": "stream",
     "text": [
      "Running root finder for cubic for an tolerance of 1e-05\n",
      "Creating function: cubic\n",
      "Bracket range [-5, 5] Init number of intervals 20\n",
      "There is 3 roots to be found.\n",
      " \n",
      "Engine has finished with bisection method\n",
      "Engine has finished with newton-raphson method\n",
      "Engine has finished with secant method\n",
      "Engine has finished with hybrid method\n",
      "Bisection results: [-2.497711181640625, -2.4976959228515625] with 15 iterations\n",
      "Newton-raphson results: [-2.4977266217491363, -2.497741159572874] with 8 iterations\n",
      "Secant results: [-2.497709324265597, -2.49770936570728] with 4 iterations\n",
      "Hybrid results: [-2.4977093657101443, -2.4977093657101439] with 6 iterations\n",
      " \n",
      "Engine has finished with bisection method\n",
      "Engine has finished with newton-raphson method\n",
      "Engine has finished with secant method\n",
      "Engine has finished with hybrid method\n",
      "Bisection results: [1.2029571533203125, 1.202972412109375] with 15 iterations\n",
      "Newton-raphson results: [1.2029542042625894, 1.2029375717099142] with 5 iterations\n",
      "Secant results: [1.2029592935663442, 1.2029572840895952] with 4 iterations\n",
      "Hybrid results: [1.2029572837627935, 1.2029572837627938] with 12 iterations\n",
      " \n",
      "Engine has finished with bisection method\n",
      "Engine has finished with newton-raphson method\n",
      "Engine has finished with secant method\n",
      "Engine has finished with hybrid method\n",
      "Bisection results: [3.394744873046875, 3.3947601318359375] with 15 iterations\n",
      "Newton-raphson results: [1.2029591194245024, 1.2029690326544937] with 10 iterations\n",
      "Secant results: [3.3947520374260027, 3.3947520819463199] with 5 iterations\n",
      "Hybrid results: [3.3947520819473489, 3.3947520819473511] with 13 iterations\n",
      " \n"
     ]
    }
   ],
   "source": [
    "main('cubic',0.00001)"
   ]
  },
  {
   "cell_type": "code",
   "execution_count": 91,
   "metadata": {
    "collapsed": false
   },
   "outputs": [
    {
     "name": "stdout",
     "output_type": "stream",
     "text": [
      "Running root finder for sin for an tolerance of 1e-05\n",
      "Creating function: sinusoidal\n",
      "Bracket range [0.1, 4] Init number of intervals 20\n",
      "There is 4 roots to be found.\n",
      " \n",
      "Engine has finished with bisection method\n",
      "Engine has finished with newton-raphson method\n",
      "Engine has finished with secant method\n",
      "Divergent with hybrid method\n",
      "Engine has finished with hybrid method\n",
      "Bisection results: [1.0471972656250004, 1.047209167480469] with 14 iterations\n",
      "Newton-raphson results: [1.0471975511963227, 1.0471971527031909] with 4 iterations\n",
      "Secant results: [1.047200338585442, 1.0471975525960067] with 4 iterations\n",
      "Hybrid results: [0.88000000000000012, 1.0471975511965979] with 51 iterations\n",
      " \n",
      "Engine has finished with bisection method\n",
      "Engine has finished with newton-raphson method\n",
      "Engine has finished with secant method\n",
      "Divergent with hybrid method\n",
      "Engine has finished with hybrid method\n",
      "Bisection results: [1.5707955932617192, 1.570807495117188] with 14 iterations\n",
      "Newton-raphson results: [1.5707963267949674, 1.5707766742634564] with 3 iterations\n",
      "Secant results: [1.5707963267223743, 1.5707963267948966] with 4 iterations\n",
      "Hybrid results: [1.5707963267948966, 1.5708248738775403] with 51 iterations\n",
      " \n",
      "Engine has finished with bisection method\n",
      "Engine has finished with newton-raphson method\n",
      "Engine has finished with secant method\n",
      "Divergent with hybrid method\n",
      "Engine has finished with hybrid method\n",
      "Bisection results: [2.0943939208984377, 2.0944058227539064] with 14 iterations\n",
      "Newton-raphson results: [2.0943951023931953, 2.0943951043524902] with 4 iterations\n",
      "Secant results: [2.0943950410843799, 2.094395102390723] with 5 iterations\n",
      "Hybrid results: [2.0943951023931953, 2.2450000000000006] with 51 iterations\n",
      " \n",
      "Engine has finished with bisection method\n",
      "Engine has finished with newton-raphson method\n",
      "Engine has finished with secant method\n",
      "Engine has finished with hybrid method\n",
      "Bisection results: [3.1415905761718754, 3.141602478027344] with 14 iterations\n",
      "Newton-raphson results: [3.1415926535897931, 3.1415914196993073] with 3 iterations\n",
      "Secant results: [3.141601284520831, 3.1415926535813701] with 3 iterations\n",
      "Hybrid results: [3.1415926535813701, 3.141601284520831] with 3 iterations\n",
      " \n"
     ]
    }
   ],
   "source": [
    "main('sin',0.00001)"
   ]
  },
  {
   "cell_type": "code",
   "execution_count": null,
   "metadata": {
    "collapsed": true
   },
   "outputs": [],
   "source": []
  },
  {
   "cell_type": "code",
   "execution_count": null,
   "metadata": {
    "collapsed": true
   },
   "outputs": [],
   "source": []
  }
 ],
 "metadata": {
  "kernelspec": {
   "display_name": "Python 2",
   "language": "python",
   "name": "python2"
  },
  "language_info": {
   "codemirror_mode": {
    "name": "ipython",
    "version": 2
   },
   "file_extension": ".py",
   "mimetype": "text/x-python",
   "name": "python",
   "nbconvert_exporter": "python",
   "pygments_lexer": "ipython2",
   "version": "2.7.6"
  }
 },
 "nbformat": 4,
 "nbformat_minor": 0
}
