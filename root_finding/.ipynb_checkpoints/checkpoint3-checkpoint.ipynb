{
 "cells": [
  {
   "cell_type": "code",
   "execution_count": 3,
   "metadata": {
    "collapsed": true
   },
   "outputs": [],
   "source": [
    "import numpy as np\n",
    "import matplotlib.pyplot as plt\n",
    "%matplotlib inline\n",
    "\n",
    "# need to be able to deal with a derivate of zero for newton-raphson"
   ]
  },
  {
   "cell_type": "code",
   "execution_count": 4,
   "metadata": {
    "collapsed": true
   },
   "outputs": [],
   "source": [
    "# function classes\n",
    "# is this any more useful than a definition\n",
    "# potentially for the engine\n",
    "\n",
    "# roots: x = -2.49771,1.20296,3.39475\n",
    "class function_cubic:\n",
    "    def __init__(self):\n",
    "        print('Creating function: cubic')\n",
    "        self.nroots = 3\n",
    "        self.bounds = [-4,4]\n",
    "          \n",
    "    # compute function \n",
    "    def get_value(self,x):\n",
    "        return 10.2-7.4*x-2.1*x*x+x*x*x\n",
    "    \n",
    "    # compute derivative\n",
    "    def get_derivative(self,x):\n",
    "        return -7.4*x-4.2*x+3*x*x\n",
    "    \n",
    "    def interval(self):\n",
    "        return self.interval\n",
    "\n",
    "class function_exp:\n",
    "    def __init__(self):\n",
    "        print('Creating function: exponential')\n",
    "        self.nroots = 1\n",
    "        self.bounds = [-4,4]\n",
    "       \n",
    "    # compute function \n",
    "    def get_value(self,x):\n",
    "        return np.exp(x)-2\n",
    "    \n",
    "    # compute derivative\n",
    "    def get_derivative(self,x):\n",
    "        return np.exp(x)\n",
    "\n",
    "    def interval(self):\n",
    "        return self.interval\n",
    "    \n",
    "class function_sinusodial:\n",
    "    def __init__(self):\n",
    "        print('Creating function: sinusoidal')\n",
    "        self.nroots = 4\n",
    "        self.bounds = [0.1,4]\n",
    "        \n",
    "    # compute function\n",
    "    def get_value(self,x):\n",
    "        return np.cos(x)*np.sin(3*x)\n",
    "    \n",
    "    # compute derivative\n",
    "    def get_derivative(self,x):\n",
    "        return np.sin(x)*np.sin(3*x)-3*np.cos(x)*np.cos(3*x)\n",
    "\n",
    "    def interval(self):\n",
    "        return self.interval"
   ]
  },
  {
   "cell_type": "code",
   "execution_count": 135,
   "metadata": {
    "collapsed": false
   },
   "outputs": [],
   "source": [
    "# root finding algorithms\n",
    "\n",
    "class step_bisection:\n",
    "    def iterate(self,function,pair):\n",
    "        centre = float(pair[0]+pair[1])/2\n",
    "        if function.get_value(pair[0])*function.get_value(centre) > 0:\n",
    "                return([centre,pair[1]])\n",
    "        else:\n",
    "                return([pair[0],centre])\n",
    "        \n",
    "# newton raphson\n",
    "class step_nr:\n",
    "    def iterate(self,function,pair):\n",
    "        return [pair[0]-float(function.get_value(pair[0]))/float(function.get_derivative(pair[0])),pair[1]]\n",
    "\n",
    "class step_secant:\n",
    "    def iterate(self,function,pair):\n",
    "        return [pair[1],pair[1]-function.get_value(pair[1])*((pair[1]-pair[0])/\n",
    "                                float(function.get_value(pair[1])-function.get_value(pair[0])))]\n",
    "\n",
    "class step_hybrid:\n",
    "    def iterate(self,function,pair):\n",
    "        # bisection\n",
    "        centre = float(pair[0]+pair[1])/2\n",
    "        if function.get_value(pair[0])*function.get_value(centre) > 0:\n",
    "                x2b = pair[1]\n",
    "        else:\n",
    "                x2b = centre\n",
    "        # secant\n",
    "        x2s = pair[1]-function.get_value(pair[1])*((pair[1]-pair[0])/\n",
    "                    float(function.get_value(pair[1])-function.get_value(pair[0])))\n",
    "        # check range os xs2\n",
    "        if xs2 < pair[1] and xs2 > pair[0]:\n",
    "            x2 = x2s              \n",
    "        else:\n",
    "            x2 = x2b\n",
    "        if function.get_value(pair[0])*function.get_value(x2) > 0:            \n",
    "            return([pair[0],x2])\n",
    "        else:\n",
    "            return([pair[1],x2])\n",
    "        \n",
    "        "
   ]
  },
  {
   "cell_type": "code",
   "execution_count": 136,
   "metadata": {
    "collapsed": true
   },
   "outputs": [],
   "source": [
    "# bracket roots for a function given the number of roots\n",
    "class bracket:\n",
    "    def get_brackets(self,function,nintervals=10):\n",
    "        # get bounds of the function\n",
    "        bracket_range = function.bounds\n",
    "        print('Bracket range '+str(bracket_range)+' Init number of intervals '+str(nintervals))\n",
    "        # find where roots lie between\n",
    "        n = 0\n",
    "        iterations = 0 \n",
    "        while function.nroots > n or iterations > 3:\n",
    "            n = 0\n",
    "            brackets = []\n",
    "            # calculate step sizes\n",
    "            step_size = float(bracket_range[1]-bracket_range[0])/nintervals\n",
    "            intervals = np.arange(bracket_range[0],bracket_range[1],step_size)\n",
    "\n",
    "            for i in range(int(nintervals)-1):\n",
    "                if function.get_value(intervals[i])*function.get_value(intervals[i+1]) < 0:\n",
    "                    n += 1\n",
    "                    brackets.append([intervals[i],intervals[i+1]])                    \n",
    "            # function has failed to find all of the roots so we restart with smaller step sizes\n",
    "            nintervals = nintervals*2\n",
    "            iterations += 1\n",
    "\n",
    "        return brackets                     "
   ]
  },
  {
   "cell_type": "code",
   "execution_count": 129,
   "metadata": {
    "collapsed": false
   },
   "outputs": [],
   "source": [
    "# engine to run everything\n",
    "class engine:\n",
    "    def __init__(self,function,step,title):\n",
    "        self.function = function\n",
    "        self.step = step\n",
    "        self.title = title\n",
    "        \n",
    "    def run(self,tolerance,root_interval):\n",
    "        # initiate results set\n",
    "        results = [root_interval]\n",
    "        \n",
    "        # counter\n",
    "        n = 0\n",
    "        tol = 1.      \n",
    "        # iterate algortihm\n",
    "        while np.abs(tol) > tolerance:\n",
    "            results.append(self.step.iterate(self.function,results[n]))\n",
    "            tol = results[n][0]-results[n-1][0]\n",
    "            n += 1\n",
    "            if self.title == 'bisection method':\n",
    "                tol = (results[n][1]-results[n][0])/2.\n",
    "            if n > 50:\n",
    "                print('Divergent with '+self.title)\n",
    "                break\n",
    "            \n",
    "        print('Engine has finished with '+self.title) \n",
    "        return results,n            "
   ]
  },
  {
   "cell_type": "code",
   "execution_count": 130,
   "metadata": {
    "collapsed": false
   },
   "outputs": [],
   "source": [
    "def main(in_function,tolerance):\n",
    "    \n",
    "    print('Running root finder for '+in_function+' for an tolerance of '+str(tolerance))\n",
    "        \n",
    "    # create function\n",
    "    if in_function == 'cubic':\n",
    "        function = function_cubic()\n",
    "    elif in_function == 'exp':\n",
    "        function = function_exp()\n",
    "    elif in_function == 'sin':\n",
    "        function = function_sinusodial()\n",
    "    else: \n",
    "        print('Incorrect function input')\n",
    "        \n",
    "    perform_bracketing = bracket()        \n",
    "    brackets = perform_bracketing.get_brackets(function)\n",
    "    \n",
    "    # get results for each root\n",
    "    print('There is '+str(len(brackets))+' roots to be found.')\n",
    "    print(' ')\n",
    "    \n",
    "    # create ... objects\n",
    "    bisection_step = step_bisection()\n",
    "    bisection_engine = engine(function,bisection_step,'bisection method')\n",
    "    \n",
    "    nr_step = step_nr()\n",
    "    nr_engine = engine(function,nr_step,'newton-raphson method')\n",
    "    \n",
    "    secant_step = step_secant()\n",
    "    secant_engine = engine(function,secant_step,'secant method')\n",
    "    \n",
    "    # get root for each boundary in the brackets\n",
    "    for row in brackets:\n",
    "        # get results\n",
    "        results_bisection,nb = bisection_engine.run(tolerance,row)\n",
    "        results_nr,nr = nr_engine.run(tolerance,row)\n",
    "        results_secant,ns = secant_engine.run(tolerance,row)\n",
    "        print('Bisection results: '+str(results_bisection[-1])+' with '+str(nb)+' iterations')\n",
    "        print('Newton-raphson results: '+str(results_nr[-1])+' with '+str(nr)+' iterations')\n",
    "        print('Secant results: '+str(results_secant[-1])+' with '+str(ns)+' iterations')\n",
    "        print(' ')"
   ]
  },
  {
   "cell_type": "code",
   "execution_count": 134,
   "metadata": {
    "collapsed": false,
    "scrolled": false
   },
   "outputs": [
    {
     "name": "stdout",
     "output_type": "stream",
     "text": [
      "Running root finder for exp for an tolerance of 1e-05\n",
      "Creating function: exponential\n",
      "Bracket range [-4, 4] Init number of intervals 10\n",
      "There is 1 roots to be found.\n",
      " \n",
      "Engine has finished with bisection method\n",
      "Engine has finished with newton-raphson method\n",
      "Engine has finished with secant method\n",
      "Bisection results: [0.6931396484374991, 0.693151855468749] with 16 iterations\n",
      "Newton-raphson results: [0.69314718055994529, 0.79999999999999893] with 6 iterations\n",
      "Secant results: [0.69314718055994529, 0.69314718055994529] with 7 iterations\n",
      " \n"
     ]
    }
   ],
   "source": [
    "main('exp',0.00001)"
   ]
  },
  {
   "cell_type": "code",
   "execution_count": 132,
   "metadata": {
    "collapsed": false
   },
   "outputs": [
    {
     "name": "stdout",
     "output_type": "stream",
     "text": [
      "Running root finder for cubic for an tolerance of 1e-05\n",
      "Creating function: cubic\n",
      "Bracket range [-4, 4] Init number of intervals 10\n",
      "There is 3 roots to be found.\n",
      " \n",
      "Engine has finished with bisection method\n",
      "Engine has finished with newton-raphson method\n",
      "Engine has finished with secant method\n",
      "Bisection results: [-2.4977172851562504, -2.4977050781250005] with 15 iterations\n",
      "Newton-raphson results: [-2.4977147341383032, -2.4000000000000004] with 18 iterations\n",
      "Secant results: [-2.4977093657101452, -2.4977093657101443] with 6 iterations\n",
      " \n",
      "Engine has finished with bisection method\n",
      "Engine has finished with newton-raphson method\n",
      "Engine has finished with secant method\n",
      "Bisection results: [1.2029541015624994, 1.2029663085937492] with 15 iterations\n",
      "Newton-raphson results: [1.2029570118172304, 1.5999999999999988] with 5 iterations\n",
      "Secant results: [1.2029572837627938, 1.2029572837627935] with 6 iterations\n",
      " \n",
      "Engine has finished with bisection method\n",
      "Engine has finished with newton-raphson method\n",
      "Engine has finished with secant method\n",
      "Bisection results: [3.394750976562498, 3.3947631835937484] with 15 iterations\n",
      "Newton-raphson results: [1.2029574367177591, 3.5999999999999979] with 12 iterations\n",
      "Secant results: [3.3947520819473502, 3.3947520819473502] with 7 iterations\n",
      " \n"
     ]
    }
   ],
   "source": [
    "main('cubic',0.00001)"
   ]
  },
  {
   "cell_type": "code",
   "execution_count": 133,
   "metadata": {
    "collapsed": false
   },
   "outputs": [
    {
     "name": "stdout",
     "output_type": "stream",
     "text": [
      "Running root finder for sin for an tolerance of 1e-05\n",
      "Creating function: sinusoidal\n",
      "Bracket range [0.1, 4] Init number of intervals 10\n",
      "There is 4 roots to be found.\n",
      " \n",
      "Engine has finished with bisection method\n",
      "Divergent with newton-raphson method\n",
      "Engine has finished with newton-raphson method\n",
      "Engine has finished with secant method\n",
      "Bisection results: [1.0471972656250004, 1.047209167480469] with 15 iterations\n",
      "Newton-raphson results: [93.614023932659904, 1.27] with 51 iterations\n",
      "Secant results: [1.0471975511965979, 1.0471975511965979] with 9 iterations\n",
      " \n",
      "Engine has finished with bisection method\n",
      "Divergent with newton-raphson method\n",
      "Engine has finished with newton-raphson method\n",
      "Engine has finished with secant method\n",
      "Bisection results: [1.5707955932617188, 1.5708074951171875] with 15 iterations\n",
      "Newton-raphson results: [49.805834875541507, 1.6600000000000001] with 51 iterations\n",
      "Secant results: [1.5707963267948966, 1.5707963267948966] with 6 iterations\n",
      " \n",
      "Engine has finished with bisection method\n",
      "Divergent with newton-raphson method\n",
      "Engine has finished with newton-raphson method\n",
      "Engine has finished with secant method\n",
      "Bisection results: [2.0943939208984377, 2.0944058227539064] with 15 iterations\n",
      "Newton-raphson results: [22.583353234622653, 2.4399999999999999] with 51 iterations\n",
      "Secant results: [2.0943951023931957, 2.0943951023931957] with 7 iterations\n",
      " \n",
      "Engine has finished with bisection method\n",
      "Divergent with newton-raphson method\n",
      "Engine has finished with newton-raphson method\n",
      "Engine has finished with secant method\n",
      "Bisection results: [3.1415905761718754, 3.141602478027344] with 15 iterations\n",
      "Newton-raphson results: [73.696320291338708, 3.2200000000000002] with 51 iterations\n",
      "Secant results: [3.1415926535897931, 3.1415926535897931] with 6 iterations\n",
      " \n"
     ]
    }
   ],
   "source": [
    "main('sin',0.00001)"
   ]
  },
  {
   "cell_type": "code",
   "execution_count": null,
   "metadata": {
    "collapsed": true
   },
   "outputs": [],
   "source": []
  },
  {
   "cell_type": "code",
   "execution_count": null,
   "metadata": {
    "collapsed": true
   },
   "outputs": [],
   "source": []
  }
 ],
 "metadata": {
  "kernelspec": {
   "display_name": "Python 2",
   "language": "python",
   "name": "python2"
  },
  "language_info": {
   "codemirror_mode": {
    "name": "ipython",
    "version": 2
   },
   "file_extension": ".py",
   "mimetype": "text/x-python",
   "name": "python",
   "nbconvert_exporter": "python",
   "pygments_lexer": "ipython2",
   "version": "2.7.6"
  }
 },
 "nbformat": 4,
 "nbformat_minor": 0
}
