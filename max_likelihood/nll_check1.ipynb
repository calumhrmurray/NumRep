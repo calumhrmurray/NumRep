{
 "cells": [
  {
   "cell_type": "code",
   "execution_count": 2,
   "metadata": {
    "collapsed": true
   },
   "outputs": [],
   "source": [
    "import matplotlib.pyplot as plt\n",
    "%matplotlib inline\n",
    "import scipy.optimize as optimize"
   ]
  },
  {
   "cell_type": "code",
   "execution_count": 3,
   "metadata": {
    "collapsed": true
   },
   "outputs": [],
   "source": [
    "import numpy as np\n",
    "import math\n",
    "\n",
    "class muon_distribution:\n",
    "    \n",
    "    # constructors\n",
    "    def __init__(self, lifetime):\n",
    "        self.lifetime = float(lifetime)\n",
    "        \n",
    "    # method to return exponential distribution    \n",
    "    def evaluate_md(self,t):\n",
    "        return (1/self.lifetime)*math.exp(-t/self.lifetime)\n",
    "    \n",
    "    # method to return maximum value of distribution  \n",
    "    def maximum(self):\n",
    "        return 1.0/self.lifetime\n",
    "    \n",
    "    # method to return random number with distribution\n",
    "    # choose numpy random exponential or custom code 'calum'    \n",
    "    def random_val(self,choice='calum'):\n",
    "        \n",
    "        # in built numpy method for generating random number in a exponential distribution\n",
    "        if choice=='numpy':\n",
    "            x1 = np.random.exponential(scale=self.lifetime)        \n",
    "        # box method for generating random number in a exponential distribution\n",
    "        elif choice=='calum':\n",
    "            x1 = 0 \n",
    "            y1 = 0\n",
    "            y2 = 1\n",
    "        \n",
    "            while ( y2 > y1 ):\n",
    "                x1 = np.random.uniform() \n",
    "                x1 = x1*self.lifetime*10.\n",
    "                y1 = self.evaluate_md(x1)\n",
    "                y2 = np.random.uniform() * self.maximum()\n",
    "            \n",
    "\n",
    "        return x1\n",
    "    \n",
    "    # integrates area under the curve, in this example should be normalised\n",
    "    # therefore always roughly equal to 1\n",
    "    def numeric_integral(self,lo,hi,npoints=100000):\n",
    "        \n",
    "        sumf = 0\n",
    "        \n",
    "        for i in range(0,npoints):\n",
    "            x = lo+np.random.uniform()*(hi-lo)\n",
    "            sumf += self.evaluate_md(x)\n",
    "            \n",
    "        return sumf*(hi-lo)/npoints\n",
    "    \n",
    "    # performs an observation by taking n_muons random values\n",
    "    # of the distribution\n",
    "    def observation(self,choice='numpy',n_muons=10000):\n",
    "        results = []\n",
    "        for i in range(0,n_muons):\n",
    "            results.append(self.random_val(choice=choice))\n",
    "            \n",
    "        # average decay time, result list\n",
    "        return np.mean(results), results"
   ]
  },
  {
   "cell_type": "code",
   "execution_count": 11,
   "metadata": {
    "collapsed": true
   },
   "outputs": [],
   "source": [
    "def pdf(tau,t):\n",
    "    t = np.array(t)\n",
    "    return (1/tau)*np.exp(-t/tau)"
   ]
  },
  {
   "cell_type": "code",
   "execution_count": 4,
   "metadata": {
    "collapsed": true
   },
   "outputs": [],
   "source": [
    "test = muon_distribution(2.2)"
   ]
  },
  {
   "cell_type": "code",
   "execution_count": 5,
   "metadata": {
    "collapsed": false
   },
   "outputs": [
    {
     "data": {
      "text/plain": [
       "2.1827419087480129"
      ]
     },
     "execution_count": 5,
     "metadata": {},
     "output_type": "execute_result"
    }
   ],
   "source": [
    "val, results = test.observation()  \n",
    "val"
   ]
  },
  {
   "cell_type": "code",
   "execution_count": 15,
   "metadata": {
    "collapsed": false
   },
   "outputs": [
    {
     "data": {
      "text/plain": [
       "array([ 0.09140345,  0.30537689,  0.28319892, ...,  0.34440799,\n",
       "        0.34833996,  0.22822078])"
      ]
     },
     "execution_count": 15,
     "metadata": {},
     "output_type": "execute_result"
    }
   ],
   "source": [
    "pdf(2.2,results)"
   ]
  },
  {
   "cell_type": "code",
   "execution_count": 20,
   "metadata": {
    "collapsed": false
   },
   "outputs": [
    {
     "data": {
      "text/plain": [
       "(0, 20)"
      ]
     },
     "execution_count": 20,
     "metadata": {},
     "output_type": "execute_result"
    },
    {
     "data": {
      "image/png": "[encoded data removed]",
      "text/plain": [
       "<matplotlib.figure.Figure at 0x7fe8da4a8fd0>"
      ]
     },
     "metadata": {},
     "output_type": "display_data"
    }
   ],
   "source": [
    "n, bins = np.histogram(results, bins=30, normed=True)\n",
    "\n",
    "plt.figure(figsize=(20,10))\n",
    "step = (bins[1]-bins[0])/2\n",
    "plt.plot(bins[1:]-step,n)\n",
    "plt.grid(True)\n",
    "plt.xlim(0,20)"
   ]
  },
  {
   "cell_type": "code",
   "execution_count": 21,
   "metadata": {
    "collapsed": false
   },
   "outputs": [],
   "source": [
    "def nll(theta,t):\n",
    "    t = np.array(t)\n",
    "    tau = theta\n",
    "    return -np.sum(np.log((1/tau)*np.exp(-t/tau)))    "
   ]
  },
  {
   "cell_type": "code",
   "execution_count": 22,
   "metadata": {
    "collapsed": false
   },
   "outputs": [
    {
     "name": "stdout",
     "output_type": "stream",
     "text": [
      "0.0\n",
      "0.5\n",
      "1.0\n"
     ]
    },
    {
     "name": "stderr",
     "output_type": "stream",
     "text": [
      "/home/calum/anaconda3/lib/python3.5/site-packages/ipykernel/__main__.py:4: RuntimeWarning: divide by zero encountered in true_divide\n",
      "/home/calum/anaconda3/lib/python3.5/site-packages/ipykernel/__main__.py:4: RuntimeWarning: invalid value encountered in multiply\n",
      "/home/calum/anaconda3/lib/python3.5/site-packages/ipykernel/__main__.py:4: RuntimeWarning: divide by zero encountered in log\n",
      "/home/calum/anaconda3/lib/python3.5/site-packages/ipykernel/__main__.py:4: RuntimeWarning: invalid value encountered in log\n",
      "/home/calum/anaconda3/lib/python3.5/site-packages/ipykernel/__main__.py:4: RuntimeWarning: invalid value encountered in log\n",
      "/home/calum/anaconda3/lib/python3.5/site-packages/ipykernel/__main__.py:4: RuntimeWarning: invalid value encountered in log\n"
     ]
    },
    {
     "name": "stdout",
     "output_type": "stream",
     "text": [
      "1.5\n"
     ]
    },
    {
     "name": "stderr",
     "output_type": "stream",
     "text": [
      "/home/calum/anaconda3/lib/python3.5/site-packages/ipykernel/__main__.py:4: RuntimeWarning: invalid value encountered in log\n",
      "/home/calum/anaconda3/lib/python3.5/site-packages/ipykernel/__main__.py:4: RuntimeWarning: invalid value encountered in log\n"
     ]
    },
    {
     "data": {
      "text/plain": [
       "      fun: 17830.907932273196\n",
       " hess_inv: array([[ 0.00048013]])\n",
       "      jac: array([-0.00073242])\n",
       "  message: 'Optimization terminated successfully.'\n",
       "     nfev: 48\n",
       "      nit: 7\n",
       "     njev: 16\n",
       "   status: 0\n",
       "  success: True\n",
       "        x: array([ 2.18822479])"
      ]
     },
     "execution_count": 22,
     "metadata": {},
     "output_type": "execute_result"
    }
   ],
   "source": [
    "for params in [p for p in np.arange(0,10,0.5)]:\n",
    "    print(params)\n",
    "    result = optimize.minimize(nll, [params], args=(results),tol=0.001)\n",
    "    if result['success'] == True:\n",
    "        break\n",
    "result"
   ]
  },
  {
   "cell_type": "code",
   "execution_count": 26,
   "metadata": {
    "collapsed": false
   },
   "outputs": [
    {
     "data": {
      "image/png": "[encoded data removed]",
      "text/plain": [
       "<matplotlib.figure.Figure at 0x7fe8da3e4668>"
      ]
     },
     "metadata": {},
     "output_type": "display_data"
    }
   ],
   "source": [
    "plt.figure(figsize=(20,10))\n",
    "plt.plot([t for t in np.arange(0,20,step)],[(1/result['x'])*np.exp(-t/result['x']) for t in np.arange(0,20,step)])\n",
    "step = (bins[1]-bins[0])/2\n",
    "plt.plot(bins[1:]-step,n,drawstyle='steps-mid')\n",
    "plt.grid(True)\n",
    "plt.xlim(0,20)\n",
    "plt.yscale('log')"
   ]
  },
  {
   "cell_type": "code",
   "execution_count": 9,
   "metadata": {
    "collapsed": false
   },
   "outputs": [
    {
     "data": {
      "text/plain": [
       "3.1249275899884212"
      ]
     },
     "execution_count": 9,
     "metadata": {},
     "output_type": "execute_result"
    }
   ],
   "source": [
    "np.sum([(1/result['x'])*np.exp(-t/result['x']) for t in np.arange(0,20,step)])"
   ]
  },
  {
   "cell_type": "code",
   "execution_count": 14,
   "metadata": {
    "collapsed": false,
    "scrolled": false
   },
   "outputs": [
    {
     "data": {
      "text/plain": [
       "[9.6000000000000014, 9.6000000000000014, 8.8000000000000007]"
      ]
     },
     "execution_count": 14,
     "metadata": {},
     "output_type": "execute_result"
    }
   ],
   "source": [
    "array = [[p1,p2,p3] for p1 in np.arange(0,10,0.8) for p2 in np.arange(0,10,0.8) for p3 in np.arange(0,10,0.8)]\n",
    "array[-2]"
   ]
  },
  {
   "cell_type": "code",
   "execution_count": 15,
   "metadata": {
    "collapsed": false
   },
   "outputs": [
    {
     "data": {
      "text/plain": [
       "(2197, 3)"
      ]
     },
     "execution_count": 15,
     "metadata": {},
     "output_type": "execute_result"
    }
   ],
   "source": [
    "np.array(array).shape"
   ]
  },
  {
   "cell_type": "code",
   "execution_count": null,
   "metadata": {
    "collapsed": true
   },
   "outputs": [],
   "source": []
  }
 ],
 "metadata": {
  "kernelspec": {
   "display_name": "Python 3",
   "language": "python",
   "name": "python3"
  },
  "language_info": {
   "codemirror_mode": {
    "name": "ipython",
    "version": 3
   },
   "file_extension": ".py",
   "mimetype": "text/x-python",
   "name": "python",
   "nbconvert_exporter": "python",
   "pygments_lexer": "ipython3",
   "version": "3.5.1"
  }
 },
 "nbformat": 4,
 "nbformat_minor": 0
}
