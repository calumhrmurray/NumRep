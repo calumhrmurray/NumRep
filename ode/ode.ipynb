{
 "cells": [
  {
   "cell_type": "code",
   "execution_count": 1,
   "metadata": {
    "collapsed": true
   },
   "outputs": [],
   "source": [
    "import matplotlib.pyplot as plt\n",
    "%matplotlib inline"
   ]
  },
  {
   "cell_type": "code",
   "execution_count": 2,
   "metadata": {
    "collapsed": true
   },
   "outputs": [],
   "source": [
    "import numpy as np\n",
    "import math"
   ]
  },
  {
   "cell_type": "code",
   "execution_count": 45,
   "metadata": {
    "collapsed": true
   },
   "outputs": [],
   "source": [
    "# ODE classes\n",
    "\n",
    "# exponential ODE dy/dx = k*y\n",
    "class ode_exponential:\n",
    "    def __init__(self,_k):\n",
    "        print('Creating ODE: exponential')\n",
    "        self.k = _k\n",
    "        self.initial = [self.exact_solution(0.),0.]\n",
    "        \n",
    "    def first_derivative(self,pair):\n",
    "        return self.k*pair[0]\n",
    "    \n",
    "    # initial values are part of the ODE information\n",
    "    def initial_val(self):\n",
    "        return self.initial\n",
    "    \n",
    "    def exact_solution(self,t):\n",
    "        return math.exp(self.k*t)\n",
    "    \n",
    "# polynomial ODE with arbitrary coefficients y = c[0]+c[1]*x+c{2}*x^2+..\n",
    "class ode_polynomial:\n",
    "    def __init__(self,_coeffs):\n",
    "        print('Creating ODE: polynomial')\n",
    "        self.coeffs = _coeffs\n",
    "        self.initial = [self.exact_solution(0.),0.]\n",
    "        \n",
    "    def first_derivative(self,pair):\n",
    "        val = 0.\n",
    "        for power in range(len(self.coeffs)-1):\n",
    "            val+=(power+1)*self.coeffs[power+1]*math.pow(pair[1],float(power))\n",
    "        return val\n",
    "        # return np.sum([(power+1)*self.coeffs[power+1]*math.pow(pair[1],float(power)) for power in range(len(self.coeffs)-1)])\n",
    "        \n",
    "    def initial_val(self):\n",
    "        return self.initial\n",
    "    \n",
    "    def exact_solution(self,t):\n",
    "        val = 0.\n",
    "        for power in range(len(self.coeffs)):\n",
    "            val+=self.coeffs[power]*math.pow(t,float(power))\n",
    "        return val\n",
    "        # return np.sum([self.coeffs[power]*math.pow(t,float(power)) for power in range(len(self.coeffs))])  \n",
    "\n",
    "# sinusoidal ODE with period omega\n",
    "class ode_sinusoid:\n",
    "    def __init__(self,omega):\n",
    "        print('Creating ODE: sinusoid')\n",
    "        self.omega = omega\n",
    "        self.initial = [self.exact_solution(0.),0.]\n",
    "        \n",
    "    def first_derivative(self,pair):\n",
    "        return np.cos(self.omega*pair[1])\n",
    "    \n",
    "    def initial_val(self):\n",
    "        return self.initial\n",
    "    \n",
    "    def exact_solution(self,t):\n",
    "        return np.sin(self.omega*t)"
   ]
  },
  {
   "cell_type": "code",
   "execution_count": 67,
   "metadata": {
    "collapsed": false
   },
   "outputs": [],
   "source": [
    "# integration algorithms\n",
    "\n",
    "class step_euler:\n",
    "    def dy(self,ode,pair,dt):\n",
    "        print('Pair',pair)\n",
    "        dy = ode.first_derivative(pair)*dt\n",
    "        return [dy,dt]\n",
    "    \n",
    "class step_rk0:\n",
    "    def dy(self,ode,pair,dt):\n",
    "        midpoint = [pair[0]+ode.first_derivative(pair)*dt/2.,pair[1]+dt/2.]\n",
    "        return [ode.first_derivative(midpoint)*dt,dt]\n",
    "    \n",
    "class step_rk:\n",
    "    def dy(self,ode,pair,dt):\n",
    "        y = pair[0]\n",
    "        t = pair[1]\n",
    "        d1 = ode.first_derivative([y,t])\n",
    "        d2 = ode.first_derivative([y+dt/2.*d1,t+dt/2.])\n",
    "        d3 = ode.first_derivative([y+dt/2.*d2,t+dt/2.])\n",
    "        d4 = ode.first_derivative([y+dt*d3,t+dt])\n",
    "        return [dt*(1./6.)*(d1+2*d2+2*d3+d4),dt]"
   ]
  },
  {
   "cell_type": "code",
   "execution_count": 68,
   "metadata": {
    "collapsed": false
   },
   "outputs": [],
   "source": [
    "# engine to run everything\n",
    "class engine:\n",
    "    def __init__(self,ode,step,title):\n",
    "        self.ode = ode\n",
    "        self.step = step\n",
    "        self.title = title\n",
    "        \n",
    "    def go(self,nsteps,dt):        \n",
    "        # 2d array [[y0,t0],[y1,t1],...]\n",
    "        results = []\n",
    "        # add initial values to results array\n",
    "        results.append(self.ode.initial_val())\n",
    "            \n",
    "        # iterate algorithms\n",
    "        for i in range(nsteps):\n",
    "            change = self.step.dy(self.ode,results[i],dt)\n",
    "            results.append([results[i][0]+change[0],results[i][1]+change[1]])\n",
    "                    \n",
    "        print('Engine has finished with',self.title)\n",
    "        return results  "
   ]
  },
  {
   "cell_type": "code",
   "execution_count": 69,
   "metadata": {
    "collapsed": false
   },
   "outputs": [],
   "source": [
    "def main(function,nsteps,delta):\n",
    "    \n",
    "    print('Running ODE integration for',function,'with nsteps=',nsteps,' and dt=',delta)\n",
    "    \n",
    "    # create ODE\n",
    "    if(function=='exp'):\n",
    "        ode = ode_exponential(1.)\n",
    "    elif(function=='poly'):\n",
    "        ode = ode_polynomial([1.,-6,3])\n",
    "    elif(function=='sin'):\n",
    "        ode = ode_sinusoid(1.)\n",
    "    else:\n",
    "        print('Incorrect function input', function)\n",
    "        quit()\n",
    "        \n",
    "    # create integration objects    \n",
    "    euler_step = step_euler()\n",
    "    euler_engine = engine(ode,euler_step,'Euler')\n",
    "    \n",
    "    rk0_step = step_rk0()\n",
    "    rk0_engine = engine(ode,rk0_step,'RK0')\n",
    "    \n",
    "    rk_step = step_rk()\n",
    "    rk_engine = engine(ode,rk_step,'RK')\n",
    "    \n",
    "    results_euler = euler_engine.go(nsteps,delta)\n",
    "    results_rk0 = rk0_engine.go(nsteps,delta)\n",
    "    results_rk = rk_engine.go(nsteps,delta)\n",
    "    results_exact = [ode.exact_solution(row[1]) for row in results_euler]\n",
    "    \n",
    "    plt.figure(figsize=(20,10))\n",
    "    plt.plot([row[1] for row in results_euler],[row[0] for row in results_euler],'g+')\n",
    "    plt.plot([row[1] for row in results_rk0],[row[0] for row in results_rk0],'b+')\n",
    "    plt.plot([row[1] for row in results_rk],[row[0] for row in results_rk],'r+')\n",
    "    plt.plot([row[1] for row in results_euler],results_exact)\n",
    "    \n",
    "    return np.array(results_euler), np.array(results_rk0), np.array(results_rk), np.array(results_exact)\n",
    "    "
   ]
  },
  {
   "cell_type": "code",
   "execution_count": 70,
   "metadata": {
    "collapsed": false
   },
   "outputs": [
    {
     "name": "stdout",
     "output_type": "stream",
     "text": [
      "('Running ODE integration for', 'poly', 'with nsteps=', 2, ' and dt=', 0.5)\n",
      "Creating ODE: polynomial\n",
      "('Pair', [1.0, 0.0])\n",
      "('Pair', [-2.0, 0.5])\n",
      "('Engine has finished with', 'Euler')\n",
      "('Engine has finished with', 'RK0')\n",
      "('Engine has finished with', 'RK')\n"
     ]
    },
    {
     "data": {
      "image/png": "[encoded data removed]",
      "text/plain": [
       "<matplotlib.figure.Figure at 0x7f1eaa40c810>"
      ]
     },
     "metadata": {},
     "output_type": "display_data"
    }
   ],
   "source": [
    "results_euler, results_rk0, results_rk, results_exact = main('poly',2,0.5)"
   ]
  },
  {
   "cell_type": "code",
   "execution_count": 71,
   "metadata": {
    "collapsed": false
   },
   "outputs": [
    {
     "data": {
      "text/plain": [
       "[<matplotlib.lines.Line2D at 0x7f1eaa172d90>]"
      ]
     },
     "execution_count": 71,
     "metadata": {},
     "output_type": "execute_result"
    },
    {
     "data": {
      "image/png": "[encoded data removed]",
      "text/plain": [
       "<matplotlib.figure.Figure at 0x7f1eaa573dd0>"
      ]
     },
     "metadata": {},
     "output_type": "display_data"
    }
   ],
   "source": [
    "\n",
    "plt.figure(figsize=(20,10))\n",
    "plt.plot([row[1] for row in results_euler],results_exact-[row[0] for row in results_euler],'g+')\n",
    "plt.plot([row[1] for row in results_rk0],results_exact-[row[0] for row in results_rk0],'b+')\n",
    "plt.plot([row[1] for row in results_rk],results_exact-[row[0] for row in results_rk],'r+')"
   ]
  },
  {
   "cell_type": "code",
   "execution_count": null,
   "metadata": {
    "collapsed": true
   },
   "outputs": [],
   "source": []
  }
 ],
 "metadata": {
  "kernelspec": {
   "display_name": "Python 2",
   "language": "python",
   "name": "python2"
  },
  "language_info": {
   "codemirror_mode": {
    "name": "ipython",
    "version": 2
   },
   "file_extension": ".py",
   "mimetype": "text/x-python",
   "name": "python",
   "nbconvert_exporter": "python",
   "pygments_lexer": "ipython2",
   "version": "2.7.6"
  }
 },
 "nbformat": 4,
 "nbformat_minor": 0
}
